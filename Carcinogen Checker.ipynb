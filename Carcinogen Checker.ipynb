{
 "cells": [
  {
   "cell_type": "code",
   "execution_count": 41,
   "id": "ae3606e8",
   "metadata": {},
   "outputs": [
    {
     "name": "stdout",
     "output_type": "stream",
     "text": [
      "The carcinogens in your list of ingredients include:  Safrole\n"
     ]
    }
   ],
   "source": [
    "#check whether the list of ingredients in a consumer product contains known carcinogens \n",
    "#source of carcinogen list (copy/paste and store locally)\n",
    "#https://www.cancer.org/healthy/cancer-causes/general-info/known-and-probable-human-carcinogens.html\n",
    "#replace df2 \"yourlist\" with your list of ingredients \n",
    "\n",
    "import pandas as pd\n",
    "\n",
    "df=pd.read_csv('C:/Users/nsw26/onedrive/Desktop/carcinogens.csv',engine='python',encoding='latin-1')\n",
    "x=[]\n",
    "x=df['Carcinogens']\n",
    "x=list(x)\n",
    "#print(x)\n",
    "df2=pd.read_csv('C:/Users/nsw26/onedrive/Desktop/yourlist.txt',engine='python',encoding='latin-1')\n",
    "y=[]\n",
    "y=df2\n",
    "y=list(y)\n",
    "#print(y)\n",
    "\n",
    "for thing in x:\n",
    "    if thing in y:\n",
    "        print(\"The carcinogens in your list of ingredients include: \",thing)"
   ]
  },
  {
   "cell_type": "code",
   "execution_count": null,
   "id": "c40c4158",
   "metadata": {},
   "outputs": [],
   "source": []
  }
 ],
 "metadata": {
  "kernelspec": {
   "display_name": "Python 3 (ipykernel)",
   "language": "python",
   "name": "python3"
  },
  "language_info": {
   "codemirror_mode": {
    "name": "ipython",
    "version": 3
   },
   "file_extension": ".py",
   "mimetype": "text/x-python",
   "name": "python",
   "nbconvert_exporter": "python",
   "pygments_lexer": "ipython3",
   "version": "3.9.13"
  }
 },
 "nbformat": 4,
 "nbformat_minor": 5
}
